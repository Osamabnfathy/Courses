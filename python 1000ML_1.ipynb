{
 "cells": [
  {
   "cell_type": "code",
   "execution_count": null,
   "metadata": {},
   "outputs": [],
   "source": [
    "            # 1000 ML Engineer :\n",
    "\n",
    "  # os liberary: \n",
    "\n",
    "import os \n",
    "\n",
    "# for Files and Folders and give boolean as answer \"True as exist and vice versa\"\n",
    "os.path.exists(\"path\")                \n",
    "os.makedirs(\"path\", exist_ok = True)   \n",
    "      \n",
    "    # exist_ok = True             mean overwrite the old one\n",
    "    # exist_ok = False            mean stop the program and raise error\n"
   ]
  },
  {
   "attachments": {},
   "cell_type": "markdown",
   "metadata": {},
   "source": [
    "======================================================================================================================"
   ]
  },
  {
   "cell_type": "code",
   "execution_count": null,
   "metadata": {},
   "outputs": [],
   "source": [
    "  # shutil liberary:\n",
    "\n",
    "import shutil as sh\n",
    "\n",
    "# to copy a File to another Folder\n",
    "sh.copyfile('source', 'destination')  \n",
    "\n",
    "# to copy a Folder to another Folder\n",
    "sh.copytree('source', 'destination')  \n",
    "\n",
    "# to move a File or a Folder to another one\n",
    "sh.move('source', 'destination')"
   ]
  },
  {
   "attachments": {},
   "cell_type": "markdown",
   "metadata": {},
   "source": [
    "============================================================================================================================="
   ]
  },
  {
   "cell_type": "code",
   "execution_count": null,
   "metadata": {},
   "outputs": [],
   "source": [
    "   # Dealing with lists:\n",
    "\n",
    "# del list_name[index]                 # To remove a cerain element in the list\n",
    "\n",
    "# list_name.remove(\"element\")          # To remove a cerain element in the list\n",
    "\n",
    "# del list_name                        # To delete the whole list\n",
    "\n",
    "# [int, flot or str]*num               # mean make a list has num of int, float or str\n",
    "print(['a','b']*5)\n",
    "\n",
    "# [[num]*8]*10                         # make a matrix 8 Columns and 10 Rows\n",
    "a = [[5]*5]*3                          # 3*5 matrix of just 5\n",
    "print(a)\n",
    "\n",
    "# len(matrix)                          # num of Rows\n",
    "len(a)\n",
    "\n",
    "# sum(matrix)/len(matrix)              # mean of a matrix\n",
    "\n",
    "# sorted(list, reverse=True)           # sort the list from small to big \"nums or str\" \"make new var\"\n",
    "\n",
    "# sorted(nested_list, key=lambda z: z[0])    # sort the list according to the first num in the inside list\n",
    "a = [('x', 5) , ('b', 3)]\n",
    "sorted(a, key=lambda z: z[0])\n",
    "\n",
    "# list.sort()                          # sort the list itself\n",
    "\n",
    "# List_name.extend(other_list)         # to add another list to it"
   ]
  },
  {
   "cell_type": "code",
   "execution_count": null,
   "metadata": {},
   "outputs": [],
   "source": [
    "# list_name.insert(index, value)       # to add the value in the posithion you want\n",
    "\n",
    "# list_name.pop(index)                 # show and delete element by index\n",
    "\n",
    "print([[0 for i in range(5)] for j in range(5)])\n",
    "\n",
    "print([i**2 for i in range(6)])"
   ]
  },
  {
   "attachments": {},
   "cell_type": "markdown",
   "metadata": {},
   "source": [
    "=================================================================================================================================="
   ]
  },
  {
   "cell_type": "code",
   "execution_count": null,
   "metadata": {},
   "outputs": [],
   "source": [
    "\n",
    "\n",
    "from operator import itemgetter, methodcaller\n",
    "# list = [(item, item, item, ....) and more of it]\n",
    "\n",
    "# a = sorted(list, key= itemgetter(0))                  # sort to the first item in the tuple\n",
    "\n",
    "# a = sorted(list, key= itemgetter(0, 1))               # sort first to the first item in the tuple if the same then sort the similer to the second item\n",
    "\n",
    "# a = sorted(list, key methodcaller= ('counter', 'a')   # sort the list to the number of 'a' in the items\n",
    "\n",
    "student_tuples = [('john', 'A', 15), ('jane', 'B', 12), ('dave', 'B', 10)]\n",
    "a = sorted(student_tuples, key=lambda student: student[2])\n",
    "print(a)                                                   "
   ]
  },
  {
   "cell_type": "code",
   "execution_count": null,
   "metadata": {},
   "outputs": [],
   "source": [
    "# set or set                           # will print the small set\n",
    "\n",
    "# set and set                          # will print the big set\n",
    "\n",
    "# set | set                            # both of them and delete the similer \"union\"\n",
    "# set.union(set)                     \n",
    "\n",
    "# set & set                            # the elements in both of them \"intersection\" \n",
    "# set.intersection(set)                     \n",
    "\n",
    "# set ^ set                            # all of the elements except the intersection \"union except intersection\"\n",
    "# set.symmetric_difference(set)        \n",
    "\n",
    "# set - set                            # first set except the intersection\n",
    "# set.difference(set)      "
   ]
  },
  {
   "cell_type": "markdown",
   "metadata": {},
   "source": [
    "========================================================================"
   ]
  },
  {
   "cell_type": "code",
   "execution_count": null,
   "metadata": {},
   "outputs": [],
   "source": [
    "# a = (value in Dict.values())          # to search in values\n",
    "\n",
    "# a = Dict.get('Key', default value)    # search the key if not exist give it the default value\n",
    "\n",
    "# del(Dict['Key'])                      # to delete a Key and its value\n",
    "\n",
    "# Dict.clear()                          # clear the whole keys and values\n",
    "\n",
    "# del(Dict)                             # delete the Dict it self\n",
    "\n",
    "# len(Dict)                             # How may keys in the Dict\n",
    "\n",
    "# a = dict.fromkeys(set)                # make a Dict Keys from a set\n",
    "\n",
    "# a = list(Dict.keys())                 # make a list from a Dict keys \"you can make it 'set' or 'tuple' by change 'list' by them\"\n",
    " \n",
    "# a = list(Dict.values())               # make a list from a Dict values \"you can make it 'set' or 'tuple' by change 'list' by them\"\n",
    "\n",
    "# a = list(Dict.items())                # make a list from a Dict keys and values 'list has a tuples' \"you can make it 'set' or 'tuple' by change 'list' by them\"\n",
    "\n",
    "\n",
    "numbers = {'2':[], '3':[]}\n",
    "\n",
    "for i in range(101):\n",
    "  if i%2 ==0 :\n",
    "    numbers['2'].append(i)\n",
    "  if i%3 ==0 :\n",
    "    numbers['3'].append(i)\n",
    "\n",
    "print(numbers['2'])   \n",
    "print(numbers['3'])   "
   ]
  },
  {
   "cell_type": "markdown",
   "metadata": {},
   "source": [
    "========================================================================"
   ]
  },
  {
   "cell_type": "code",
   "execution_count": null,
   "metadata": {},
   "outputs": [],
   "source": [
    "# zip(iterator1, iterator2)              # Do parallel iteration\n",
    "\n",
    "print({x:y for x,y in zip('ABCDEFGH',range(1,12))})\n",
    "\n",
    "print({y:x for x,y in zip('ABCDEFGH',range(1,12))})\n",
    "\n",
    "students = ['samy', 'mone', 'ramy', 'mena']\n",
    "grades = [25, 33, 66, 95]\n",
    "for i, a in zip(students, grades) :\n",
    "\tprint('student ' + i + ' got ' + str(a) + ' degrees')"
   ]
  },
  {
   "cell_type": "code",
   "execution_count": null,
   "metadata": {},
   "outputs": [],
   "source": [
    "# Flip the Key with Value\n",
    "\n",
    "A = {x:y for x,y in zip('ABCDEFGH',range(1,12))}\n",
    "B = {y:x for x,y in A.items()}        # flipe the keys with the valuea\n",
    "print(B)\n"
   ]
  },
  {
   "cell_type": "markdown",
   "metadata": {},
   "source": [
    "====================================================================="
   ]
  },
  {
   "cell_type": "code",
   "execution_count": null,
   "metadata": {},
   "outputs": [],
   "source": [
    "word = 'divide'\n",
    "for n in word :\n",
    "\tif n == 'i' :\n",
    "\t\tcontinue        # don't print it and continue\n",
    "\tprint(n, end=' ') "
   ]
  },
  {
   "cell_type": "code",
   "execution_count": null,
   "metadata": {},
   "outputs": [],
   "source": [
    "for x in range(1, 21) :\n",
    "\tif x %5 == 0 :\n",
    "\t\tprint(str(x) + ' is divided by 5')\n",
    "\t\tcontinue                              \n",
    "\tprint(str(x) + ' isn\\'t divided by 5')"
   ]
  },
  {
   "cell_type": "code",
   "execution_count": null,
   "metadata": {},
   "outputs": [],
   "source": [
    "print(sum([k for k in range(20)]))       # sum([0, 1, 2, ...., 19])  = 190\n",
    "\n",
    "a = [3*x for x in [y**2 for y in range(10)]] \n",
    "print(a)\n",
    "# first y**2 == [0, 1, 4, 9, 16, 25, 36, 49, 64, 81]\n",
    "# then a == 3 * y**2 == [0, 3, 12, 27, 48, 75, 108, 147, 192, 243]"
   ]
  },
  {
   "cell_type": "code",
   "execution_count": null,
   "metadata": {},
   "outputs": [],
   "source": [
    "a = 8 \n",
    "while a :                 # treat like \"while True\" >> '0' is False \n",
    "\tprint(a, end= ' ')\n",
    "\ta -= 1            "
   ]
  },
  {
   "cell_type": "markdown",
   "metadata": {},
   "source": [
    "=======================================================================S"
   ]
  },
  {
   "cell_type": "code",
   "execution_count": null,
   "metadata": {},
   "outputs": [],
   "source": [
    "import statistics as st\n",
    "nums = [1, 2, 3, 4, 5, 6]                 # you can use Tuple and set\n",
    "\n",
    "# mean = sum of elements / num of elements\n",
    "a = st.mean(nums)\n",
    "print(a)\n",
    "\n",
    "# harmonic_mean = num of elements / sum of inverted elements\n",
    "b = st.harmonic_mean(nums)\n",
    "print(b)\n",
    "\n",
    "# sort the elements then choose the middle element 'if len is even \" add the 2 middle nums / 2\"'\n",
    "c = st.median(nums)\n",
    "print(c)\n",
    "\n",
    "# sort the numbers then if len is even then choose the first from left\n",
    "d = st.median_low(nums)\n",
    "print(d)\n",
    "\n",
    "# sort the numbers then if len is even then choose the second from left\n",
    "e = st.median_high(nums)\n",
    "print(e)\n",
    "\n",
    "# the most repetitive number \"Error when 2 element are repeated the same times\"\n",
    "f = st.mode(nums)\n",
    "print(f)\n",
    "\n",
    "# standard deviation \"the variety\"        الانحراف المعياري\n",
    "g = st.stdev(nums)\n",
    "print(g)\n",
    "\n",
    "# magnitude of difference           التباين\n",
    "h = st.variance(nums)\n",
    "print(h)"
   ]
  },
  {
   "cell_type": "markdown",
   "metadata": {},
   "source": [
    "=================================================================="
   ]
  },
  {
   "cell_type": "code",
   "execution_count": null,
   "metadata": {},
   "outputs": [],
   "source": [
    "import random as rn \n",
    "\n",
    "# random num between ]0, 1[\n",
    "a = rn.random()\n",
    "print(a)\n",
    "\n",
    "# a = rn.randint(num1, num2)              # random integer num between [num1, num2[ \n",
    "\n",
    "# a = rn.randrange(end_number)            # random integer num between [0, end_number[\n",
    "\n",
    "# a = rn.uniform(num1, num2)              # random num 'fraction' between [num1, num2[\n",
    "  \n",
    "# a = rn.choice(list)                     # choice an element from the list\n",
    "\n",
    "# a = rn.choice('sentence')               # choice a letter from the sentence\n",
    "\n",
    "# rn.shuffle(items)                       # rearrange the given list or items\n",
    "\n",
    "# a = rn.sample(range(num), num_wanted)   # give you a int 'num_wanted' from the list or any thing\n",
    "b = rn.sample(range(99), 9)         # choose 9 nums from the range func\n",
    "print(b)\n"
   ]
  },
  {
   "cell_type": "code",
   "execution_count": null,
   "metadata": {},
   "outputs": [],
   "source": [
    "def show_details(a, b, *args, **kwargs) :\n",
    "\tprint(f\"a is {a}\")\n",
    "\tprint(f\"b is {b}\")\n",
    "\tprint(f\"args is {args}\")\n",
    "\tprint(f\"kwargs is {kwargs}\")\n",
    "show_details(1, 2, 3, 4, 5, c=6, d=7, e=8)\n",
    "\n"
   ]
  },
  {
   "cell_type": "code",
   "execution_count": null,
   "metadata": {},
   "outputs": [],
   "source": [
    "xx = 5 \n",
    "\n",
    "def gg() :\n",
    "  global xx          # Make it global\n",
    "  xx = 14\n",
    "\n",
    "gg()\n",
    "print(xx)"
   ]
  },
  {
   "cell_type": "markdown",
   "metadata": {},
   "source": [
    "======================================================================"
   ]
  },
  {
   "cell_type": "code",
   "execution_count": null,
   "metadata": {},
   "outputs": [],
   "source": [
    "powers = lambda x, y : x**y\n",
    "print(powers(5, 3))\n",
    "\n",
    "powers = [lambda x : 1, lambda x : x, lambda x : x**2, lambda x : x**3]\n",
    "print(powers[0](5))\n",
    "print(powers[1](5))\n",
    "print(powers[2](5))\n",
    "print(powers[3](5))"
   ]
  },
  {
   "cell_type": "code",
   "execution_count": null,
   "metadata": {},
   "outputs": [],
   "source": [
    "mylist = [0, 1, 2, 3, 4, 5, 6, 7, 8, 9]\n",
    "\n",
    "even_numbers = list(filter(lambda x : x%2 == 0, mylist))\n",
    "print(even_numbers)\n",
    "\n",
    "odd_numbers = list(filter(lambda x : x%2 == 1, mylist))\n",
    "print(odd_numbers)\n",
    "\n",
    "print(list(map(lambda x : x**2, mylist)))"
   ]
  },
  {
   "cell_type": "code",
   "execution_count": null,
   "metadata": {},
   "outputs": [],
   "source": [
    "def yie() :\n",
    "\tfor i in range(10) :\n",
    "\t\tyield i\n",
    "\n",
    "for g in yie() :\n",
    "\tprint(g, end= ' ')"
   ]
  },
  {
   "cell_type": "code",
   "execution_count": null,
   "metadata": {},
   "outputs": [],
   "source": [
    "def fibon(n) :\n",
    "\ta = 0\n",
    "\tb = 1\n",
    "\tresult = []\n",
    "\tfor i in range(n) :\n",
    "\t\tresult.append(a)\n",
    "\t\ta, b = b, a+b\n",
    "\treturn result\n",
    "print(fibon(10))\n",
    "\n",
    "def fibon(n) :\n",
    "\ta = 0\n",
    "\tb = 1\n",
    "\tfor i in range(n) :\n",
    "\t\tyield a\n",
    "\t\ta, b = b, a+b\n",
    "for x in fibon(10) :\n",
    "\tprint(x, end=' ')"
   ]
  },
  {
   "cell_type": "markdown",
   "metadata": {},
   "source": [
    "==============================================================="
   ]
  },
  {
   "cell_type": "code",
   "execution_count": null,
   "metadata": {},
   "outputs": [],
   "source": [
    "class CAR() :\n",
    "\tcolor = 'blue'\n",
    " \n",
    "volvo = CAR\n",
    "volvo.color = 'white'\n",
    "\n",
    "nissan = CAR\n",
    "nissan.color = 'green'\n",
    "\n",
    "print(volvo.color)\n",
    "\n",
    "print(nissan.color)"
   ]
  },
  {
   "cell_type": "code",
   "execution_count": null,
   "metadata": {},
   "outputs": [],
   "source": [
    "class car() : \n",
    "\tdef __init__(self, color) :\n",
    "\t\tself.color = color\n",
    "\n",
    "volvo = car('white')\n",
    "\n",
    "nissan = car('green') \n",
    "\n",
    "print(volvo.color)\n",
    "\n",
    "print(nissan.color)"
   ]
  },
  {
   "cell_type": "code",
   "execution_count": null,
   "metadata": {},
   "outputs": [],
   "source": [
    "class Account() :\n",
    "\tdef __init__(self, name, account_number, initial_amount) :\n",
    "\t\tself.name = name\n",
    "\t\tself.no = account_number\n",
    "\t\tself.balance = initial_amount\n",
    "  \n",
    "\tdef deposit(self, amount) :\n",
    "\t\tself.balance += amount\n",
    "\n",
    "\tdef withdraw(self, amount) :\n",
    "\t\tself.balance -= amount\n",
    "\n",
    "\tdef show(self) :\n",
    "\t\tprint(f\"{self.name}, {self.no}, ${self.balance}\")\n",
    "\n",
    "person1 = Account('John Olsson', '19371554951', 20000)\n",
    "person2 = Account('Liz Olsson', '19371564761', 50000)\n",
    "print(person1.balance)\n",
    "print(person2.no)\n",
    "\n",
    "person1.deposit(1000)\n",
    "\n",
    "person1.withdraw(4000)\n",
    "\n",
    "person2.withdraw(10500)\n",
    "\n",
    "person1.withdraw(3500)\n",
    "\n",
    "print(f\"person1's balance {person1.balance}\")\n",
    "\n",
    "print(f\"person2's balance {person2.balance}\")\n",
    "\n",
    "\n",
    "person1.show()\n",
    "\n",
    "person2.show()"
   ]
  },
  {
   "cell_type": "markdown",
   "metadata": {},
   "source": [
    "===================================================================="
   ]
  },
  {
   "cell_type": "code",
   "execution_count": null,
   "metadata": {},
   "outputs": [],
   "source": [
    "  # Liberaries :-\n",
    "\n",
    "# Numpy      >> Concern about Math\n",
    "\n",
    "# Pandas     >> Concern about Data\n",
    "\n",
    "# Matplotlip >> Concern about Graphs\n"
   ]
  },
  {
   "cell_type": "code",
   "execution_count": null,
   "metadata": {},
   "outputs": [],
   "source": [
    "  # 1) Numpy Liberary:-\n",
    "\n",
    "# Maths operations :-\n",
    "\n",
    "#  >> sin, cos, tan  - we use Radians\n",
    "\n",
    "#  >> sec, csec, ctan - by 1/func\n",
    "\n",
    "#  >> we convert between \"Degrees and Randians\"   (* pi/180) or (deg2rad(degree))  \n",
    "\n",
    "from numpy import *\n",
    "\n",
    "# Ceil - Round to up to get int\n",
    "print(ceil(3.6))  \n",
    "   \n",
    "# Floor - Round to down to get int\n",
    "print(floor(8.9))\n",
    "   \n",
    "# mod - the Reminder '%'\n",
    "print(mod(20,7))\n",
    "\n",
    "# power - the Power **\n",
    "print(power(2,5))\n"
   ]
  },
  {
   "cell_type": "code",
   "execution_count": null,
   "metadata": {},
   "outputs": [],
   "source": [
    "from numpy import *\n",
    "\n",
    "a = sin(30 * pi/180)\n",
    "\n",
    "b = cos(30 * pi/180)\n",
    "\n",
    "c = tan(deg2rad(30))\n",
    "\n",
    "print(a, b, c)"
   ]
  },
  {
   "cell_type": "code",
   "execution_count": null,
   "metadata": {},
   "outputs": [],
   "source": [
    "from numpy import *\n",
    "\n",
    "a= round(3.68528)\n",
    "\n",
    "b= round(3.68528, 1)\n",
    "\n",
    "c= round(3.68528, 2)\n",
    "\n",
    "d= round(3.68528, 3)\n",
    "\n",
    "e= round(3.68528, 4)\n",
    "\n",
    "print(a, b, c, d, e)"
   ]
  },
  {
   "cell_type": "markdown",
   "metadata": {},
   "source": [
    "========================================================================"
   ]
  },
  {
   "cell_type": "code",
   "execution_count": null,
   "metadata": {},
   "outputs": [],
   "source": [
    "  # Matrix:-\n",
    "\n",
    "from numpy import *\n",
    "\n",
    "a = [1, 2, 3, 4]\n",
    "b = array(a)\n",
    "print(b)"
   ]
  },
  {
   "cell_type": "code",
   "execution_count": null,
   "metadata": {},
   "outputs": [],
   "source": [
    "from numpy import *\n",
    "\n",
    "a = [[1, 2, 3], [4, 5, 6], [7, 8, 9]]\n",
    "b = array(a)          \n",
    "print(b)"
   ]
  },
  {
   "cell_type": "code",
   "execution_count": null,
   "metadata": {},
   "outputs": [],
   "source": [
    "from numpy import *\n",
    "\n",
    "b = array([range(i, i + 3 ) for i in [2, 4, 6]])           \n",
    "print(b)"
   ]
  },
  {
   "cell_type": "code",
   "execution_count": null,
   "metadata": {},
   "outputs": [],
   "source": [
    "from numpy import *\n",
    "\n",
    "b = array([('x_value', 3.66, 4.256),\n",
    "           ('y', 4, 5.3),\n",
    "           ('z', 5, 6.3)],\n",
    "          dtype = [('name', 'U5'), ('number', 'i2'), ('value', 'f2')])           \n",
    "\n",
    "print(b)"
   ]
  },
  {
   "cell_type": "code",
   "execution_count": null,
   "metadata": {},
   "outputs": [],
   "source": [
    "# empty((3,2))             - make a matrix with empty entries\n",
    "\n",
    "# random.uniform(1,10)     - Random value between 1, 10\n",
    "\n",
    "# random.uniform(1,10,20)  - 20 Random values between 1, 10\n",
    "\n",
    "# random.random((2, 3))    - Random Matrix with dim 2*3 with values between 0,1\n",
    "\n",
    "from numpy import *\n",
    "\n",
    "b = random.random((2, 3))           \n",
    "print(b +10)"
   ]
  },
  {
   "cell_type": "code",
   "execution_count": null,
   "metadata": {},
   "outputs": [],
   "source": [
    "# random.normal(0, 1, 10)         - make a natural distribution between -1, 1\n",
    "\n",
    "# random.randint(10, 120)         - Int Random value between 10, 120\n",
    "\n",
    "# random.randint(10, 120,3)       - 3 Int Random values between 10, 120\n",
    "\n",
    "# random.randint(10, 120,(2,3,4)) - Make a Rand matrix between 10, 120 with 2 dim  3*4\n",
    "\n",
    "# random.rand(3,2)                - make a rand matrix with 3*2 values between 0,1\n",
    "\n",
    "# random.rand(2,3,2)              - make a rand matrix with 2 dim, 3*2 values between 0,1\n",
    "\n",
    "from numpy import *\n",
    "\n",
    "b = random.randint(10, 120,(2,3,4))           \n",
    "print(b)"
   ]
  },
  {
   "cell_type": "code",
   "execution_count": null,
   "metadata": {},
   "outputs": [],
   "source": [
    "from numpy import *\n",
    "\n",
    "b = random.rand(3,2)\n",
    "print(b)"
   ]
  },
  {
   "cell_type": "code",
   "execution_count": null,
   "metadata": {},
   "outputs": [],
   "source": [
    "from numpy import *\n",
    "\n",
    "b = random.rand(2,3,2)\n",
    "print(b)"
   ]
  },
  {
   "cell_type": "code",
   "execution_count": null,
   "metadata": {},
   "outputs": [],
   "source": [
    "from numpy import *\n",
    "\n",
    "a = random.randint(10, 99, 9)\n",
    "b = reshape(a, (3,3))             # Make a matrix from the Elements\n",
    "print(b)"
   ]
  },
  {
   "cell_type": "code",
   "execution_count": null,
   "metadata": {},
   "outputs": [],
   "source": [
    "# random.choice(list_name)        - choice random value from list\n",
    "\n",
    "# random.shuffle(list_name)       - Rearrange a list randomly\n",
    "\n",
    "# zeros((2,2,2))                  - Make a zeros matrix with 2 dim and 2*2\n",
    "\n",
    "# ones((2,2,2))                   - Make a ones matrix with 2 dim and 2*2 \n",
    "\n",
    "\n",
    "from numpy import *\n",
    "\n",
    "a = [1, 2, 3, 4, 5, 6]\n",
    "b = random.choice(a)\n",
    "print(b)         "
   ]
  },
  {
   "cell_type": "code",
   "execution_count": null,
   "metadata": {},
   "outputs": [],
   "source": [
    "from numpy import *\n",
    "\n",
    "a = [1, 2, 3, 4, 5, 6]\n",
    "random.shuffle(a)\n",
    "print(a)"
   ]
  },
  {
   "cell_type": "code",
   "execution_count": null,
   "metadata": {},
   "outputs": [],
   "source": [
    "from numpy import *\n",
    "\n",
    "a = zeros((2,2,2))\n",
    "print(a)\n",
    "\n",
    "b = ones((2,2,2))\n",
    "print(b)"
   ]
  },
  {
   "cell_type": "code",
   "execution_count": null,
   "metadata": {},
   "outputs": [],
   "source": [
    "# eye(3)                    - Make an Identity matrix 3*3 \"diagonal 1\"\n",
    "\n",
    "# full((2,2,3),10)          - Make a matrix with 2 dim and 2*3 all values are 10\n",
    "\n",
    "# arange(5)                 - Make a Row Matrix from 0 > 4\n",
    "\n",
    "# arange(12).reshape(2,2,3) - Matrix with 2 dim and 2*3 from range 0 > 11\n",
    "\n",
    "\n",
    "from numpy import *\n",
    "\n",
    "a = eye(3)\n",
    "print(a)"
   ]
  },
  {
   "cell_type": "code",
   "execution_count": null,
   "metadata": {},
   "outputs": [],
   "source": [
    "from numpy import *\n",
    "\n",
    "a = full((2,2,3), 10)\n",
    "print(a)"
   ]
  },
  {
   "cell_type": "code",
   "execution_count": null,
   "metadata": {},
   "outputs": [],
   "source": [
    "from numpy import *\n",
    "\n",
    "a = arange(12)\n",
    "print(a)\n",
    "\n",
    "b = arange(12).reshape(2,2,3)\n",
    "print(b)"
   ]
  },
  {
   "cell_type": "code",
   "execution_count": null,
   "metadata": {},
   "outputs": [],
   "source": [
    "from numpy import *\n",
    "\n",
    "a = arange(12)\n",
    "random.shuffle(a)\n",
    "\n",
    "b = a.reshape(2,2,3)\n",
    "print(b)"
   ]
  },
  {
   "cell_type": "code",
   "execution_count": null,
   "metadata": {},
   "outputs": [],
   "source": [
    "# linspace(0, 10, 5)        - 5 numbers from 0 > 10 with fix step \"2.5\" and defult is 50 num\n",
    "\n",
    "\n",
    "from numpy import *\n",
    "\n",
    "a = linspace(0, 10, 5)\n",
    "print(a)"
   ]
  },
  {
   "cell_type": "code",
   "execution_count": null,
   "metadata": {},
   "outputs": [],
   "source": [
    "from numpy import *\n",
    "\n",
    "a = linspace(0, 11, 12).reshape(2,2,3)\n",
    "print(a)"
   ]
  },
  {
   "cell_type": "code",
   "execution_count": null,
   "metadata": {},
   "outputs": [],
   "source": [
    "from numpy import *\n",
    "\n",
    "a = linspace(0, 11, 12)\n",
    "random.shuffle(a)\n",
    "\n",
    "b = a.reshape(2,2,3)\n",
    "print(b)"
   ]
  },
  {
   "cell_type": "code",
   "execution_count": null,
   "metadata": {},
   "outputs": [],
   "source": [
    "# make a diagonal matrix with these values and \"k=0 >> added rows and columns = 0\"\n",
    "# diag(array([2,3,4,1]), k=0)\n",
    "\n",
    "\n",
    "from numpy import *\n",
    "\n",
    "b = diag(array([2,3,4,1]),k=0)\n",
    "print(b)"
   ]
  },
  {
   "cell_type": "code",
   "execution_count": null,
   "metadata": {},
   "outputs": [],
   "source": [
    "# axis = 2 Mean # of Rows\n",
    "# axis = 1 Mean # of Columns\n",
    "\n",
    "# count_nonzero(Matrix_name)                      - # of non zero elements in this matrix\n",
    "\n",
    "# count_nonzero(Matrix_name\"> or <\" num)          - # of elements that make the condition true\n",
    "\n",
    "# count_nonzero(Matrix_name\"> or <\" num, axis=2)  - # of elements in each row that make codition true \n",
    "\n",
    "# any(matrix_name\"> or <\" num, axis= 2)           - True or False state in each row \n",
    "\n",
    "# all(matrix_name\"> or <\" num, axis= 2)           - All the Row Elements prove the state or not \n",
    "\n",
    "\n",
    "from numpy import *\n",
    "\n",
    "a = random.randint(0,12,(2,2,3))\n",
    "print(a)\n",
    "\n",
    "b = count_nonzero(a)\n",
    "print(b)\n",
    "\n",
    "c = count_nonzero(a>4)\n",
    "print(c)\n",
    "\n",
    "d = count_nonzero(a<7)\n",
    "print(d)\n",
    "\n",
    "e = count_nonzero(a<7, axis= 2)\n",
    "print(e)\n",
    "\n",
    "\n",
    "f = any(a>10)\n",
    "print(f) \n",
    "\n",
    "g = any(a>10, axis= 2)\n",
    "print(g)\n",
    "\n",
    "h = all(a>5, axis= 1)\n",
    "print(h)"
   ]
  },
  {
   "cell_type": "code",
   "execution_count": null,
   "metadata": {},
   "outputs": [],
   "source": [
    "from numpy import *\n",
    "\n",
    "a = random.randint(5,20, size=9).reshape(3,3)\n",
    "print(a)\n",
    "\n",
    "b = a > 10\n",
    "print(b)\n",
    "\n",
    "d = a[b]\n",
    "print(d)\n",
    "\n",
    "c = a < 15\n",
    "print(c)\n",
    "\n",
    "e = a[c]\n",
    "print(e)"
   ]
  },
  {
   "cell_type": "code",
   "execution_count": null,
   "metadata": {},
   "outputs": [],
   "source": [
    "# isclose(mat_1,mat_2, rtol= 0.1)        - Compare between 2 mat with tolerance = 0.1 \"deffirence = 0.1\"\n",
    "\n",
    "# multiply(a,10 , out=b)                 - multiply mat a*10 and put the result in b\n",
    "\n",
    "# power(a,2, out=b)                      - power mat a**2 and put the result in b\n",
    "\n",
    "\n",
    "from numpy import *\n",
    "\n",
    "a = arange(9).reshape(3,3)\n",
    "\n",
    "b = arange(9).reshape(3,3)\n",
    "\n",
    "c = 2*b\n",
    "\n",
    "d = isclose(a,b, rtol= 0.1 )\n",
    "print(d)\n",
    "\n",
    "e = isclose(a,c, rtol= 0.1 )\n",
    "print(e)"
   ]
  },
  {
   "cell_type": "code",
   "execution_count": null,
   "metadata": {},
   "outputs": [],
   "source": [
    "from numpy import *\n",
    "\n",
    "a = arange(5)\n",
    "print(a)\n",
    "\n",
    "b = empty(5)\n",
    "multiply(a,10 , out=b)\n",
    "print(b)"
   ]
  },
  {
   "cell_type": "code",
   "execution_count": null,
   "metadata": {},
   "outputs": [],
   "source": [
    "from numpy import *\n",
    "\n",
    "a = arange(5)\n",
    "print(a)\n",
    "\n",
    "b = empty(5)\n",
    "power(a,2 , out=b)\n",
    "print(b)"
   ]
  },
  {
   "cell_type": "code",
   "execution_count": null,
   "metadata": {},
   "outputs": [],
   "source": [
    "# add.reduce(Mat_name)            - Sum of Mat elements \n",
    "\n",
    "# add.accumulate(Mat_name)        - Each elements is Sum of the previous elements in the Matrix\n",
    "\n",
    "# multiply.accumulate(Mat_name)   - Make a Matrix from the Factorial of each element\n",
    "\n",
    "# multiply.reduce(Mat_name)       - Multiplication of Mat elements  \n",
    "\n",
    "# multiply.outer(Mat1, Mat2)      - Make a Matrix from Multipling the Row in each element\n",
    "\n",
    "\n",
    "from numpy import *\n",
    "\n",
    "a = arange(1, 5)\n",
    "print(a)\n",
    "\n",
    "b = add.reduce(a)\n",
    "print(b)\n",
    "\n",
    "c = add.accumulate(a)\n",
    "print(c)\n",
    "\n",
    "d = multiply.accumulate(a) \n",
    "print(d)\n",
    "\n",
    "e = multiply.reduce(a)\n",
    "print(e)\n",
    "\n",
    "f = multiply.outer(a,a) \n",
    "print(f)"
   ]
  },
  {
   "cell_type": "code",
   "execution_count": null,
   "metadata": {},
   "outputs": [],
   "source": [
    "# len(Mat)                     - # of elements In one dim Mat and Num of Rows for Multiple dim Matrix\n",
    "\n",
    "# Matrix_name.size             - # of elements In one or Multiple dim Matrix\n",
    "\n",
    "# Matrix_name.shape            - Dim of the Matrix \"M*N\"\n",
    "\n",
    "# Matrix_name.ndim             - # of Dim of the Matrix\n",
    "\n",
    "\n",
    "from numpy import *\n",
    "\n",
    "a = arange(12)\n",
    "print(a)\n",
    "\n",
    "b = len(a)\n",
    "print(b)\n",
    "\n",
    "c = a.size\n",
    "print(c)\n",
    "\n",
    "d = a.reshape(4,3)\n",
    "print(d)\n",
    "\n",
    "e = len(d)\n",
    "print(e)\n",
    "\n",
    "f = d.size\n",
    "print(f)\n",
    "\n",
    "g = a.shape\n",
    "print(g)\n",
    "\n",
    "h = d.shape\n",
    "print(h)\n",
    "\n",
    "j = a.ndim\n",
    "print(j)\n",
    "\n",
    "k = d.ndim\n",
    "print(k)"
   ]
  },
  {
   "cell_type": "code",
   "execution_count": null,
   "metadata": {},
   "outputs": [],
   "source": [
    "# var_name.dtype              - show the Type of the variable\n",
    "\n",
    "\n",
    "from numpy import *\n",
    "\n",
    "a = array(['ahmed','dian','go','hola','jan'])\n",
    "print(a)\n",
    "\n",
    "b = a.dtype\n",
    "print(b)              # U >> string, 5 >> the bigest # digits\"\\\n",
    "\n",
    "c = arange(12).reshape(3,4)\n",
    "print(c)\n",
    "\n",
    "d = c.dtype\n",
    "print(d)"
   ]
  },
  {
   "cell_type": "code",
   "execution_count": null,
   "metadata": {},
   "outputs": [],
   "source": [
    "# matrix('{} {} ; {} {}'.format(1,2,3,4))        - Make a matrix 2*2\n",
    "\n",
    "# trace(Matrix_name)                             - Sum of the diagonal elements\n",
    "\n",
    "# linalg.det(Matrix_name)                        - Determenant of the Matrix\n",
    "\n",
    "# linalg.eig(Matrix_name)                        - Eigen Values and Vectors of the Matrix\n",
    "\n",
    "\n",
    "from numpy import *\n",
    "\n",
    "a = matrix('{} {} ; {} {}'.format(1,2,3,4))\n",
    "print(a)\n",
    "\n",
    "b = matrix('{} {} {} ; {} {} {}'.format(1,2,3,4,5,6))\n",
    "print(b)\n",
    "\n",
    "c = trace(a)\n",
    "print(c)\n",
    "\n",
    "d = linalg.det(a)\n",
    "print(d)\n",
    "\n",
    "e = linalg.eig(a)\n",
    "print(e)"
   ]
  },
  {
   "cell_type": "code",
   "execution_count": null,
   "metadata": {},
   "outputs": [],
   "source": [
    "from numpy import *\n",
    "\n",
    "a = arange(36).reshape(6,6)\n",
    "print(a)           \n",
    "\n",
    "b = a[3]                   # 1 dim >> like List, else >> the whole Row \"Row 4\"\n",
    "print(b)\n",
    "\n",
    "c = a[3:9]                 # 1 dim >> like list, else >> the Row 4 to Row 8\n",
    "print(c)\n",
    "\n",
    "d = a[3:9:2]               # 1 dim >> like list, else >> the Row 4 to Row 8 with step 2\n",
    "print(d)\n",
    "\n",
    "e = a[-1]                  # 1 dim >> like list, else >> the Last Row\n",
    "print(e)"
   ]
  },
  {
   "cell_type": "code",
   "execution_count": null,
   "metadata": {},
   "outputs": [],
   "source": [
    "# ,num                 - Mean # of Coloumn\n",
    "# num,                 - Mean # of Row\n",
    "# num:num              - From num To num\n",
    "\n",
    "\n",
    "from numpy import *\n",
    "\n",
    "a = arange(36).reshape(6,6)\n",
    "print(a)\n",
    "\n",
    "b = a[3,1]          # Row 4 and Coloumn 2\n",
    "print(b)\n",
    "\n",
    "c = a[3,:]          # Row 4 and whole coloumns\n",
    "print(c)\n",
    "\n",
    "d = a[:,2]          # whole Row and Coloumn 3\n",
    "print(d)\n",
    "\n",
    "e = a[:,1:3]        # whole Row and Coloumn 2 to 3\n",
    "print(e)\n",
    "\n",
    "f = a[1:2,:]        # Row 2 to 2 and whole coloumn\n",
    "print(f)"
   ]
  },
  {
   "cell_type": "code",
   "execution_count": null,
   "metadata": {},
   "outputs": [],
   "source": [
    "from numpy import *\n",
    "\n",
    "a = arange(36).reshape(6,6)\n",
    "print(a)\n",
    "\n",
    "b = a[3:4,1:5]            # Rows 4 , Coluomns 2 > 5\n",
    "print(b)\n",
    "\n",
    "c = a[2:,3:]              # Rows 3 > end, Coluomns 4 > end\n",
    "print(c)\n",
    "\n",
    "d = a[:2,:3]              # Rows first > 1 , Coluomns first > 3\n",
    "print(d)\n",
    "\n",
    "e = a[:,-1]               # Rows all, Coluomns last one \n",
    "print(e)\n",
    "\n",
    "f = a[-1,:]               # Rows last one, Coloumns all \n",
    "print(f)"
   ]
  },
  {
   "cell_type": "code",
   "execution_count": null,
   "metadata": {},
   "outputs": [],
   "source": [
    "\n",
    "from numpy import *\n",
    "\n",
    "a = arange(36).reshape(6,6)\n",
    "print(a)\n",
    "\n",
    "b = a[::2,::3]            # Rows all with step 2, Coluomns all with step 3\n",
    "print(b)\n",
    "\n",
    "c = a[::-1,::-1]          # Rows all from end, Coluomns all from end\n",
    "print(c)\n",
    "\n",
    "d = a[:2:-1,:3:-1]        # Rows start > 3 from end, Coluomns start >2 from end  \"Rows >> Coluomns\" \n",
    "print(d)\n",
    "\n",
    "e = a[2::2,3::3]          # Rows 3 > end with step 2, Coluomns 4 > end with step 3\n",
    "print(e)\n",
    "\n",
    "f = a[-1::,-1::]          # Rows end row, Coluomns end coluomn\n",
    "print(f)"
   ]
  },
  {
   "cell_type": "code",
   "execution_count": null,
   "metadata": {},
   "outputs": [],
   "source": [
    "from numpy import *\n",
    "\n",
    "a = arange(18).reshape(3,3,2)\n",
    "print(a)                  # 3 dim 3*2\n",
    "\n",
    "b = a[1]\n",
    "print(b)                  # second dim\n",
    "\n",
    "c = a[1,2]\n",
    "print(c)                  # second dim, row 3\n",
    "\n",
    "d = a[2,2,1]\n",
    "print(d)                  # third dim, row 3, coluomn 2"
   ]
  },
  {
   "attachments": {},
   "cell_type": "markdown",
   "metadata": {},
   "source": [
    "========================================================================"
   ]
  },
  {
   "cell_type": "code",
   "execution_count": null,
   "metadata": {},
   "outputs": [],
   "source": [
    "# changes like the Copy\n",
    "\n",
    "from numpy import *\n",
    "\n",
    "a = arange(16).reshape(4,4)\n",
    "print(a)\n",
    "\n",
    "b = a[:,1:3]\n",
    "print(b)\n",
    "\n",
    "a[:,:] = 5\n",
    "print(a)         # change the Values of a \n",
    "print(b)         # b changed like a"
   ]
  },
  {
   "cell_type": "code",
   "execution_count": null,
   "metadata": {},
   "outputs": [],
   "source": [
    "# Changes will not happen \"Copy command\"\n",
    "\n",
    "from numpy import *\n",
    "\n",
    "a = arange(16).reshape(4,4)\n",
    "print(a)\n",
    "\n",
    "b = a[:,1:3].copy()         # Make an uniqe one\n",
    "print(b)\n",
    "\n",
    "a[:,:] = 5                  # Change a Values\n",
    "print(a)                    # a has changed\n",
    "print(b)                    # b didn't change cause it seperated copy \n"
   ]
  },
  {
   "attachments": {},
   "cell_type": "markdown",
   "metadata": {},
   "source": [
    "===================================================================="
   ]
  },
  {
   "cell_type": "code",
   "execution_count": null,
   "metadata": {},
   "outputs": [],
   "source": [
    "# splitting\n",
    "\n",
    "from numpy import *\n",
    "\n",
    "x = [11,22,33,44,55,66,77,88]\n",
    "\n",
    "x1, x2, x3 = split(x, (3,6))   # from num 3 the previous in x1, from num 4 to 6 in x2, the rest in x3 \n",
    "print(x1, x2,x3)\n",
    "\n",
    "x1, x2, x3 = split(x, (1,5))   # from num 1 the previous in x1, from num 2 to 5 in x2, the rest in x3\n",
    "print(x1, x2,x3)\n",
    "\n",
    "x1, x2, x3 = split(x, (6,3))   # from num 6 the previous in x1, nothing x2, the rest after 4 in x3 \n",
    "print(x1, x2,x3)\n",
    "\n",
    "x1, x2, x3 = split(x, (0,3))   # nothing in x1, from num 1 to 3 in x2, the rest after 3 in x3\n",
    "print(x1, x2,x3)\n",
    "\n",
    "x1, x2, x3 = split(x, (4,0))   # from num 4 the previous in x1, nothing x2, all in x3\n",
    "print(x1, x2,x3)"
   ]
  },
  {
   "attachments": {},
   "cell_type": "markdown",
   "metadata": {},
   "source": [
    "==============================================================="
   ]
  },
  {
   "cell_type": "code",
   "execution_count": null,
   "metadata": {},
   "outputs": [],
   "source": [
    "# Stacking :\n",
    "\n",
    "from numpy import *\n",
    "\n",
    "a = arange(4).reshape(2,2)\n",
    "print(a)\n",
    "\n",
    "b = 2*arange(4).reshape(2,2)\n",
    "print(b)\n",
    "\n",
    "c = vstack((a,b))                 # vertical stacking \"Coluomns should be same\"\n",
    "print(c)\n",
    "\n",
    "d = hstack((a,b))                 # horizontal stacking \"Rows should be same\"\n",
    "print(d)\n"
   ]
  },
  {
   "cell_type": "code",
   "execution_count": null,
   "metadata": {},
   "outputs": [],
   "source": [
    "from numpy import *\n",
    "\n",
    "a = random.randint(5,20 ,size=9).reshape(3,3)\n",
    "print(a)\n",
    "\n",
    "b = random.randint(5,20 ,size=9).reshape(3,3)\n",
    "print(b)\n",
    "\n",
    "c = concatenate([a,b], axis = 0)         # vertical Stacking \"Coluomns should be same\"\n",
    "print(c)\n",
    "\n",
    "d = concatenate([a,b], axis= 1)          # Horizontal Stacking \"Rows should be same\"\n",
    "print(d)"
   ]
  },
  {
   "attachments": {},
   "cell_type": "markdown",
   "metadata": {},
   "source": [
    "========================================================================="
   ]
  },
  {
   "cell_type": "code",
   "execution_count": null,
   "metadata": {},
   "outputs": [],
   "source": [
    "from numpy import *\n",
    "\n",
    "a = random.randint(5,20 ,size=9).reshape(3,3)\n",
    "print(a)\n",
    "\n",
    "b = a.max()         # Max value in the matrix\n",
    "print(b)\n",
    "\n",
    "c = a.min()         # Min value in the matrix\n",
    "print(c)\n",
    "\n",
    "d = a.argmax()      # Position of the Max value from counter 0\n",
    "print(d)\n",
    "\n",
    "e = a.argmin()      # Position of the Min value from counter 0\n",
    "print(e)"
   ]
  },
  {
   "cell_type": "code",
   "execution_count": null,
   "metadata": {},
   "outputs": [],
   "source": [
    "from numpy import *\n",
    "\n",
    "a = random.randint(5,20 ,size=9).reshape(3,3)\n",
    "print(a)\n",
    "\n",
    "b = var(a)          # Variance\n",
    "print(b)\n",
    "\n",
    "c = cov(a)          # Covariance\n",
    "print(c)"
   ]
  },
  {
   "attachments": {},
   "cell_type": "markdown",
   "metadata": {},
   "source": [
    "==================================================================="
   ]
  },
  {
   "cell_type": "code",
   "execution_count": null,
   "metadata": {},
   "outputs": [],
   "source": [
    "# element by element Multiplication, division and power\n",
    "\n",
    "from numpy import *\n",
    "\n",
    "a = random.randint(1,10 ,size=9).reshape(3,3)\n",
    "print(a)\n",
    "\n",
    "b = random.randint(1,10 ,size=9).reshape(3,3)\n",
    "print(b)\n",
    "\n",
    "c = a*b                # element by element multiplication\n",
    "print(c)\n",
    "\n",
    "d = a/b                # element by element division\n",
    "print(d)\n",
    "\n",
    "e = a**2               # each element to power 2 \n",
    "print(e)"
   ]
  },
  {
   "cell_type": "code",
   "execution_count": null,
   "metadata": {},
   "outputs": [],
   "source": [
    "# linear algebra Multiplication\n",
    "\n",
    "from numpy import *\n",
    "\n",
    "a = random.randint(1,10 ,size=9).reshape(3,3)\n",
    "print(a)\n",
    "\n",
    "b = random.randint(1,10 ,size=9).reshape(3,3)\n",
    "print(b)\n",
    "\n",
    "c = dot(a,b)\n",
    "print(c)"
   ]
  },
  {
   "cell_type": "code",
   "execution_count": null,
   "metadata": {},
   "outputs": [],
   "source": [
    "from numpy import *\n",
    "\n",
    "a = random.randint(1,10 ,size=9).reshape(3,3)\n",
    "print(a)\n",
    "\n",
    "b = sum(a)\n",
    "print(b)\n",
    "\n",
    "c = a.sum()\n",
    "print(c)\n",
    "\n",
    "d = a.sum(axis = 0)    # sum of each Coloumn\n",
    "print(d)\n",
    "\n",
    "e = a.sum(axis = 1)    # sum of each Row\n",
    "print(e)"
   ]
  },
  {
   "cell_type": "code",
   "execution_count": null,
   "metadata": {},
   "outputs": [],
   "source": [
    "from numpy import *\n",
    "a = random.randint(1,10 ,size=9).reshape(3,3)\n",
    "print(a)\n",
    "\n",
    "b = a.mean()        # المتوسط\n",
    "print(b)\n",
    "\n",
    "c = a.std()         # الانحراف المعياري\n",
    "print(c)\n",
    "\n",
    "d = a.var()         # الانحراف\n",
    "print(d)\n",
    "\n",
    "e = corrcoef(a)     # معامل الارتباط\n",
    "print(e)"
   ]
  },
  {
   "cell_type": "code",
   "execution_count": null,
   "metadata": {},
   "outputs": [],
   "source": [
    "from numpy import *\n",
    "\n",
    "a = random.randint(1,10 ,size=9).reshape(3,3)\n",
    "print(a)\n",
    "\n",
    "b = sort(a, axis=0)     # sort each coloumn\n",
    "print(b)\n",
    "\n",
    "c = sort(a, axis=1)     # sort each row\n",
    "print(c)"
   ]
  },
  {
   "cell_type": "code",
   "execution_count": null,
   "metadata": {},
   "outputs": [],
   "source": [
    "from numpy import *\n",
    "\n",
    "a = random.randint(1,10 ,size=9).reshape(3,3)\n",
    "print(a)\n",
    "\n",
    "b = linalg.inv(a)    # inverse matrix\n",
    "print(b)\n",
    "\n",
    "c = dot(a,b)         # get the identity matrix\n",
    "print(c)"
   ]
  },
  {
   "attachments": {},
   "cell_type": "markdown",
   "metadata": {},
   "source": [
    "=================================================================="
   ]
  },
  {
   "cell_type": "code",
   "execution_count": null,
   "metadata": {},
   "outputs": [],
   "source": [
    "# Dealing with Files :\n",
    "\n",
    "from numpy import *\n",
    "\n",
    "fname = 'P:\\\\1.txt'\n",
    "\n",
    "dtype1 = dtype([('gender', '|S1'), ('height', 'f8'), ('weight', 'f8')])          # S1 mean string one digit, f8 mean float 8 digits\n",
    "\n",
    "a = loadtxt(fname, dtype= dtype1, skiprows=9, usecols=(1,3,4))   # loadtxt(path, type, skiprows\"Rows wanted to skipped\", usecols\"used coloumns\")\n",
    "print(a)"
   ]
  },
  {
   "cell_type": "code",
   "execution_count": null,
   "metadata": {},
   "outputs": [],
   "source": [
    "from numpy import *\n",
    "\n",
    "a,b,c = loadtxt('P:\\\\1.txt', unpack=True, skiprows=3)\n",
    "\n",
    "print(a)\n",
    "print(b)\n",
    "print(c)"
   ]
  },
  {
   "cell_type": "code",
   "execution_count": null,
   "metadata": {},
   "outputs": [],
   "source": [
    "from numpy import *\n",
    "\n",
    "# delimiter mean the seperat element\n",
    "data = genfromtxt('P:\\\\1.txt',skip_header=1,\n",
    "                              dtype=[('student', 'u8'),('gender', 'S1'),\n",
    "                                     ('black', 'f8'),('colour', 'f8')],\n",
    "                              delimiter=',',missing_values='X')\n",
    "\n",
    "print(data)"
   ]
  },
  {
   "attachments": {},
   "cell_type": "markdown",
   "metadata": {},
   "source": [
    "=============================================================="
   ]
  },
  {
   "cell_type": "code",
   "execution_count": null,
   "metadata": {},
   "outputs": [],
   "source": [
    "# Dealing with Polynomials :\n",
    "\n",
    "  # Y = mX + c         \" m = slope, c = intersect with Y axis\"\n",
    "  #  Best fit line           افضل معادله من الدرجه الاولي تناسب هذه النقاط\n",
    "\n",
    "\n",
    "import numpy as np\n",
    "\n",
    "Polynomials = np.polynomial.Polynomial\n",
    "\n",
    "X = np.array([0, 20, 40, 60, 80, 100, 120, 140, 160, 180])\n",
    "Y = np.array([10, 9, 8, 7, 6, 5, 4, 3, 2, 1])\n",
    "\n",
    "# 1 mean first order poly\n",
    "# full mean take all points\n",
    "# points mean \"c, m\"\n",
    "points, stats = Polynomials.fit(X, Y, 1, full= True)\n",
    "\n",
    "print(points)"
   ]
  },
  {
   "cell_type": "code",
   "execution_count": null,
   "metadata": {},
   "outputs": [],
   "source": [
    "# over fitting    = when you use higher orders like x**7\n",
    "\n",
    "# under fitting   = when you use lower orders like x**1\n",
    "\n",
    "# so Best fitting is X**2 OR X**3"
   ]
  },
  {
   "cell_type": "code",
   "execution_count": null,
   "metadata": {},
   "outputs": [],
   "source": [
    "import numpy as np\n",
    "\n",
    "Polynomials = np.polynomial.Polynomial\n",
    "\n",
    "X = np.array([0, 20, 40, 60, 80, 100, 120, 140, 160, 180])\n",
    "Y = np.array([10, 9, 8, 7, 6, 5, 4, 3, 2, 1])\n",
    "\n",
    "# 2 mean second order poly\n",
    "points, stats = Polynomials.fit(X, Y, 2, full=True)\n",
    "\n",
    "print(points)"
   ]
  },
  {
   "cell_type": "code",
   "execution_count": null,
   "metadata": {},
   "outputs": [],
   "source": [
    "from numpy import *\n",
    "\n",
    "x = array([3, 6, 2, 5, 4])\n",
    "y = array([2, 3, -9, 6, 2.5])\n",
    "\n",
    "# 2 mean second order           \n",
    "z = polyfit(x, y, 2)       \n",
    "\n",
    "print(z)"
   ]
  },
  {
   "cell_type": "code",
   "execution_count": null,
   "metadata": {},
   "outputs": [],
   "source": [
    "# poly1d((nums))             # write a poly equations       \n",
    "\n",
    "# one num   Const\n",
    "# tow nums  First with X and other is Const\n",
    "# 3 nums    First with X**2, second with X and third is Const and so on\n",
    "\n",
    "\n",
    "from numpy import *\n",
    "\n",
    "a = poly1d((-7))\n",
    "print(a)\n",
    "\n",
    "b = poly1d((-7, 2))\n",
    "print(b)\n",
    "\n",
    "c = poly1d((-7, 2, 1))\n",
    "print(c)\n",
    "\n",
    "d = poly1d((-7, 2, 1, 3))\n",
    "print(d)\n",
    "\n",
    "e = poly1d((-7, 2, 1, 3, 6))\n",
    "print(e)"
   ]
  },
  {
   "cell_type": "code",
   "execution_count": null,
   "metadata": {},
   "outputs": [],
   "source": [
    "# Get the Value of Equation \n",
    "\n",
    "from numpy import *\n",
    "\n",
    "a = poly1d((-7, 2, 1, 3, 6))\n",
    "print(a)\n",
    "\n",
    "b = a(5)\n",
    "print(b)\n",
    "\n",
    "c = a(0)\n",
    "print(c)"
   ]
  },
  {
   "cell_type": "code",
   "execution_count": null,
   "metadata": {},
   "outputs": [],
   "source": [
    "# polyval((nums), num)            value of the equation at X=num\n",
    "\n",
    "\n",
    "from numpy import *\n",
    "\n",
    "a = polyval((-7, 2, 1, 3, 6), 0)\n",
    "print(a)\n"
   ]
  },
  {
   "cell_type": "code",
   "execution_count": null,
   "metadata": {},
   "outputs": [],
   "source": [
    "# polyder(poly1d((nums)), num)     derevative of the equation 'num' times\n",
    "\n",
    "from numpy import *\n",
    "\n",
    "a = polyder(poly1d((-7, 2, 1, 3, 6)))      # derevative of the equation one time\n",
    "print(a)\n",
    "print(a(0))\n",
    "\n",
    "b = polyder(poly1d((-7, 2, 1, 3, 6)), 2)   # deravative of the equation 2 times\n",
    "print(b)\n",
    "print(b(0))"
   ]
  },
  {
   "cell_type": "code",
   "execution_count": null,
   "metadata": {},
   "outputs": [],
   "source": [
    "# polyint(poly1d((nums)), num)       integration of the equation 'num' times\n",
    " \n",
    "from numpy import *\n",
    "\n",
    "a = polyint(poly1d((10, 4, 3, 6, 6)))        # integrate the equation one time\n",
    "print(a)\n",
    "print(a(2))\n",
    "\n",
    "b = polyint(poly1d((30, 40, 60, 12, 6)), 2)  # integrate the equation 2 times\n",
    "print(b)\n",
    "print(b(2))"
   ]
  },
  {
   "cell_type": "code",
   "execution_count": null,
   "metadata": {},
   "outputs": [],
   "source": [
    "# roots(poly1d((nums)))                   # Roots of the equations \"nums that make the eqaution = 0\"\n",
    "\n",
    "from numpy import *\n",
    "\n",
    "a = roots(poly1d((1, 2)))\n",
    "print(a)\n",
    "\n",
    "b = roots(poly1d((1, 2, 3)))\n",
    "print(b)\n",
    "\n",
    "c = roots(poly1d((1, 2, 3, 5)))\n",
    "print(c)\n",
    "\n",
    "d = roots(poly1d((1, 2, 3, 5, 12)))\n",
    "print(d)\n",
    "\n",
    "e = roots(poly1d((1, 2, 3, 5, 12, 22)))\n",
    "print(e)"
   ]
  },
  {
   "attachments": {},
   "cell_type": "markdown",
   "metadata": {},
   "source": [
    "================================================================="
   ]
  },
  {
   "cell_type": "code",
   "execution_count": null,
   "metadata": {},
   "outputs": [],
   "source": [
    "# Date and Time :\n",
    "\n",
    "from numpy import *\n",
    "\n",
    "x = array('2023-02-13', dtype=datetime64)\n",
    "print(x)\n",
    "\n",
    "y = datetime64('2023-02-13')        # Func to type the Date\n",
    "print(y)"
   ]
  },
  {
   "cell_type": "code",
   "execution_count": null,
   "metadata": {},
   "outputs": [],
   "source": [
    "# Numpy understand the date and its End and Start : \n",
    " \n",
    "from numpy import *\n",
    "\n",
    "x = datetime64('2023-02-20')\n",
    "print(x)\n",
    "\n",
    "y = x + arange(12)   # count 12 days from that day\n",
    "print(y)"
   ]
  },
  {
   "cell_type": "code",
   "execution_count": null,
   "metadata": {},
   "outputs": [],
   "source": [
    "from numpy import *\n",
    "\n",
    "x = datetime64('2023-02-14')\n",
    "y = datetime64('2023-01-14')\n",
    "\n",
    "print(x-y)"
   ]
  },
  {
   "attachments": {},
   "cell_type": "markdown",
   "metadata": {},
   "source": [
    "==================================================================="
   ]
  },
  {
   "cell_type": "code",
   "execution_count": null,
   "metadata": {},
   "outputs": [],
   "source": [
    "# Function in Numpy :\n",
    "\n",
    "from numpy import * \n",
    "\n",
    "x = fromfunction(lambda i: i **3, (10,))\n",
    "print(x)\n",
    "\n",
    "# matrix 3*4 with i=[0 1 2], j=[0 1 2 3]\n",
    "y = fromfunction(lambda i, j: i+j, (3,4))\n",
    "print(y)\n",
    "\n",
    "# 2 dim matrix #*4 with i=[0 1], j=[0 1 2], k=[0 1 2 3]\n",
    "z = fromfunction(lambda i, j, k: i+j+k, (2,3,4)) \n",
    "print(z)"
   ]
  },
  {
   "cell_type": "code",
   "execution_count": null,
   "metadata": {},
   "outputs": [],
   "source": [
    "# replace lambda by an outer func :\n",
    "\n",
    "from numpy import * \n",
    "\n",
    "def powers_1(i):\n",
    "  i = i**2\n",
    "  return i\n",
    "\n",
    "def powers_2(i, j):\n",
    "  j = i + j\n",
    "  return j  \n",
    "\n",
    "def powers_3(i, j, k):\n",
    "  k = i + j + k\n",
    "  return k\n",
    "\n",
    "x = fromfunction(powers_1, (9,), dtype=int)\n",
    "print(x)\n",
    "\n",
    "y = fromfunction(powers_2, (3,4), dtype=int)\n",
    "print(y)\n",
    "\n",
    "z = fromfunction(powers_3, (2,3,4), dtype=int)\n",
    "print(z)"
   ]
  },
  {
   "cell_type": "code",
   "execution_count": null,
   "metadata": {},
   "outputs": [],
   "source": [
    "from numpy import * \n",
    "\n",
    "m, n = 21, 5\n",
    "\n",
    "def f(i):\n",
    "  return (i % n == 0)\n",
    "# True if the reminder = 0\n",
    "\n",
    "# function test the division by 5 for 20 values\n",
    "x = fromfunction(f, (m,), dtype=int)\n",
    "print(x)"
   ]
  },
  {
   "attachments": {},
   "cell_type": "markdown",
   "metadata": {},
   "source": [
    "The Rest in python 1000ML_2\n",
    "    \n",
    "    Good Luck (:    "
   ]
  }
 ],
 "metadata": {
  "kernelspec": {
   "display_name": "Python 3",
   "language": "python",
   "name": "python3"
  },
  "language_info": {
   "codemirror_mode": {
    "name": "ipython",
    "version": 3
   },
   "file_extension": ".py",
   "mimetype": "text/x-python",
   "name": "python",
   "nbconvert_exporter": "python",
   "pygments_lexer": "ipython3",
   "version": "3.10.5"
  },
  "orig_nbformat": 4
 },
 "nbformat": 4,
 "nbformat_minor": 2
}
